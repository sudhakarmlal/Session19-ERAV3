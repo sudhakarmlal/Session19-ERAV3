{
  "nbformat": 4,
  "nbformat_minor": 0,
  "metadata": {
    "colab": {
      "provenance": []
    },
    "kernelspec": {
      "name": "python3",
      "display_name": "Python 3"
    },
    "language_info": {
      "name": "python"
    }
  },
  "cells": [
    {
      "cell_type": "code",
      "execution_count": 1,
      "metadata": {
        "colab": {
          "base_uri": "https://localhost:8080/"
        },
        "id": "86vj8axz2SZQ",
        "outputId": "78e813bd-e638-4db1-913a-8f670d02860b"
      },
      "outputs": [
        {
          "output_type": "stream",
          "name": "stdout",
          "text": [
            "-44.57\t-43.57\t-41.21\t-38.78\t\n",
            "-43.57\t-41.93\t-38.28\t-34.35\t\n",
            "-41.21\t-38.28\t-31.64\t-23.00\t\n",
            "-38.78\t-34.35\t-23.00\t0.00\t\n"
          ]
        }
      ],
      "source": [
        "import numpy as np\n",
        "\n",
        "def create_gridworld(size=4):\n",
        "    # Create state values array\n",
        "    V = np.zeros(size*size)\n",
        "\n",
        "    # Create transition probabilities and rewards\n",
        "    def get_next_states(s):\n",
        "        row, col = s // size, s % size\n",
        "        possible_moves = []\n",
        "\n",
        "        # Up\n",
        "        if row > 0:\n",
        "            possible_moves.append(s - size)\n",
        "        # Down\n",
        "        if row < size - 1:\n",
        "            possible_moves.append(s + size)\n",
        "        # Left\n",
        "        if col > 0:\n",
        "            possible_moves.append(s - 1)\n",
        "        # Right\n",
        "        if col < size - 1:\n",
        "            possible_moves.append(s + 1)\n",
        "\n",
        "        return possible_moves\n",
        "\n",
        "    # Value Iteration\n",
        "    gamma = 1.0\n",
        "    threshold = 1e-4\n",
        "    max_change = float('inf')\n",
        "\n",
        "    while max_change >= threshold:\n",
        "        max_change = 0\n",
        "        V_new = V.copy()\n",
        "\n",
        "        for s in range(size*size):\n",
        "            # Skip terminal state (bottom-right corner)\n",
        "            if s == size*size - 1:\n",
        "                continue\n",
        "\n",
        "            # Get possible next states\n",
        "            next_states = get_next_states(s)\n",
        "            n_actions = len(next_states)\n",
        "\n",
        "            # Calculate value using Bellman equation\n",
        "            value = 0\n",
        "            for next_s in next_states:\n",
        "                # Probability of each action is 1/n_actions\n",
        "                # Reward is -1 for each move\n",
        "\n",
        "                value += (1/n_actions) * (-1 + gamma * V[next_s])\n",
        "\n",
        "            V_new[s] = value\n",
        "            max_change = max(max_change, abs(V_new[s] - V[s]))\n",
        "\n",
        "        V = V_new\n",
        "\n",
        "    return V\n",
        "\n",
        "# Run the algorithm\n",
        "V = create_gridworld(4)\n",
        "\n",
        "# Print results in a grid format\n",
        "for i in range(4):\n",
        "    for j in range(4):\n",
        "        print(f\"{V[i*4 + j]:.2f}\", end=\"\\t\")\n",
        "    print()"
      ]
    }
  ]
}